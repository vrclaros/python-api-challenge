{
 "cells": [
  {
   "cell_type": "markdown",
   "metadata": {},
   "source": [
    "# WeatherPy\n",
    "----\n",
    "\n",
    "#### Note\n",
    "* Instructions have been included for each segment. You do not have to follow them exactly, but they are included to help you think through the steps."
   ]
  },
  {
   "cell_type": "code",
   "execution_count": 45,
   "metadata": {
    "scrolled": true
   },
   "outputs": [],
   "source": [
    "# Dependencies and Setup\n",
    "import matplotlib.pyplot as plt\n",
    "import pandas as pd\n",
    "import numpy as np\n",
    "import requests\n",
    "import time\n",
    "from scipy.stats import linregress\n",
    "import csv\n",
    "\n",
    "# Import API key\n",
    "from api_keys import weather_api_key\n",
    "from api_keys import g_key\n",
    "\n",
    "# Incorporated citipy to determine city based on latitude and longitude\n",
    "from citipy import citipy\n",
    "\n",
    "# Output File (CSV)\n",
    "output_data_file = \"output_data/cities.csv\"\n",
    "\n",
    "# Range of latitudes and longitudes\n",
    "lat_range = (-90, 90)\n",
    "lng_range = (-180, 180)"
   ]
  },
  {
   "cell_type": "code",
   "execution_count": 46,
   "metadata": {},
   "outputs": [
    {
     "data": {
      "text/plain": [
       "'./output_data\\\\weather_data.csv'"
      ]
     },
     "execution_count": 46,
     "metadata": {},
     "output_type": "execute_result"
    }
   ],
   "source": [
    "#print(weather_api_key), print(g_key)\n",
    "import os\n",
    "output_path = os.path.join('./','output_data','weather_data.csv')\n",
    "#output_path = os.path.join('./', 'Resources','Results_Bank.txt')\n",
    "output_path"
   ]
  },
  {
   "cell_type": "markdown",
   "metadata": {},
   "source": [
    "## Generate Cities List"
   ]
  },
  {
   "cell_type": "code",
   "execution_count": 3,
   "metadata": {},
   "outputs": [
    {
     "data": {
      "text/plain": [
       "620"
      ]
     },
     "execution_count": 3,
     "metadata": {},
     "output_type": "execute_result"
    }
   ],
   "source": [
    "# List for holding lat_lngs and cities\n",
    "lat_lngs = []\n",
    "cities = []\n",
    "\n",
    "# Create a set of random lat and lng combinations\n",
    "lats = np.random.uniform(low=-90.000, high=90.000, size=1500)\n",
    "lngs = np.random.uniform(low=-180.000, high=180.000, size=1500)\n",
    "lat_lngs = zip(lats, lngs)\n",
    "\n",
    "# Identify nearest city for each lat, lng combination\n",
    "for lat_lng in lat_lngs:\n",
    "    city = citipy.nearest_city(lat_lng[0], lat_lng[1]).city_name\n",
    "    \n",
    "    # If the city is unique, then add it to a our cities list\n",
    "    if city not in cities:\n",
    "        cities.append(city)\n",
    "\n",
    "# Print the city count to confirm sufficient count\n",
    "len(cities)\n"
   ]
  },
  {
   "cell_type": "code",
   "execution_count": 23,
   "metadata": {},
   "outputs": [],
   "source": [
    "#Create a datafram from cities\n",
    "df_cities = pd.DataFrame(cities, columns = ['cities'])"
   ]
  },
  {
   "cell_type": "markdown",
   "metadata": {},
   "source": [
    "### Perform API Calls\n",
    "* Perform a weather check on each city using a series of successive API calls.\n",
    "* Include a print log of each city as it'sbeing processed (with the city number and city name).\n"
   ]
  },
  {
   "cell_type": "code",
   "execution_count": 187,
   "metadata": {},
   "outputs": [
    {
     "name": "stdout",
     "output_type": "stream",
     "text": [
      "Done2\n"
     ]
    }
   ],
   "source": [
    " # Save config information.\n",
    "url = \"http://api.openweathermap.org/data/2.5/weather?\"\n",
    "units = \"imperial\"#\"metric\" #should be imperial\n",
    "\n",
    "# Build partial query URL\n",
    "query_url = f\"{url}appid={weather_api_key}&units={units}&q=\"\n",
    "print(\"Done2\")"
   ]
  },
  {
   "cell_type": "code",
   "execution_count": 188,
   "metadata": {},
   "outputs": [
    {
     "name": "stdout",
     "output_type": "stream",
     "text": [
      "City was included in list:Kruisfontein -- 986717\n",
      "City was included in list:Lavrentiya -- 4031637\n",
      "City was included in list:Marawi -- 1701054\n",
      "City was included in list:East Massapequa -- 5115962\n",
      "City was included in list:New Norfolk -- 2155415\n",
      "City was included in list:Gamba -- 2400547\n",
      "City was included in list:Pandan -- 1695546\n",
      "City was included in list:Richards Bay -- 962367\n",
      "City was included in list:Lompoc -- 5367788\n",
      "City was included in list:Busselton -- 2075265\n",
      "City was included in list:Hithadhoo -- 1282256\n",
      "City was NOT included in list: sentyabrskiy\n",
      "City was included in list:Jamame -- 56399\n",
      "City was included in list:Khatanga -- 2022572\n",
      "City was included in list:Hermanus -- 3366880\n",
      "City was included in list:Bata -- 2310046\n",
      "City was included in list:Koboko -- 230725\n",
      "City was included in list:Bluff -- 2206939\n",
      "City was included in list:Vaini -- 4032243\n",
      "City was included in list:Kapaa -- 5848280\n",
      "City was included in list:Geraldton -- 2070998\n",
      "City was included in list:Nome -- 5870133\n",
      "City was included in list:Angostura -- 4018499\n",
      "City was included in list:Bathsheba -- 3374083\n",
      "City was NOT included in list: palabuhanratu\n",
      "City was included in list:San Miguel de Tucumán -- 3836873\n",
      "City was included in list:Ribeira Grande -- 3372707\n",
      "City was included in list:Hobart -- 2163355\n",
      "City was included in list:Honiara -- 2108502\n",
      "City was included in list:Kavieng -- 2094342\n",
      "City was included in list:Saskylakh -- 2017155\n",
      "City was included in list:Hoima -- 233312\n",
      "City was included in list:Smithers -- 6149996\n",
      "City was included in list:Cherskiy -- 2126199\n",
      "City was NOT included in list: taolanaro\n",
      "City was included in list:Nadym -- 1498087\n",
      "City was included in list:Barrow -- 5880054\n",
      "City was included in list:Rikitea -- 4030556\n",
      "City was included in list:Longyearbyen -- 2729907\n",
      "City was included in list:Mehamn -- 778707\n",
      "City was included in list:Nabire -- 1634614\n",
      "City was included in list:Te Anau -- 2181625\n",
      "City was included in list:Vanimo -- 2084442\n",
      "City was included in list:‘Āhuimanu -- 5856516\n",
      "City was included in list:Watsa -- 204283\n",
      "City was included in list:Angoulême -- 3037598\n",
      "City was included in list:Lebu -- 3883457\n",
      "City was included in list:Mataura -- 6201424\n",
      "City was included in list:Ponta do Sol -- 2264557\n",
      "City was included in list:Saint-Philippe -- 935215\n",
      "City was included in list:George Town -- 1735106\n",
      "City was included in list:Santa Rosa -- 1687894\n",
      "City was included in list:Nouadhibou -- 2377457\n",
      "City was included in list:Jamestown -- 5122534\n",
      "City was included in list:San Andrés -- 3670218\n",
      "City was included in list:Dikson -- 1507390\n",
      "City was included in list:La Crosse -- 5258957\n",
      "City was included in list:Ozernovskiy -- 2122293\n",
      "City was NOT included in list: cagayan de tawi-tawi\n",
      "City was included in list:Rāhon -- 1259022\n",
      "City was included in list:Ajdabiya -- 89113\n",
      "City was included in list:Olafsvik -- 3414079\n",
      "City was included in list:Noumea -- 2139521\n",
      "City was included in list:Punta Arenas -- 3874787\n",
      "City was included in list:Okhotsk -- 2122605\n",
      "City was included in list:Korla -- 1529376\n",
      "City was included in list:Nsukka -- 2328684\n",
      "City was included in list:Gouyave -- 3580279\n",
      "City was NOT included in list: barentsburg\n",
      "City was included in list:Qaanaaq -- 3831208\n",
      "City was included in list:Tuktoyaktuk -- 6170031\n",
      "City was included in list:Vila -- 7117100\n",
      "City was included in list:Pevek -- 2122090\n",
      "City was included in list:Kamakwie -- 2408154\n",
      "City was included in list:Albany -- 5106841\n",
      "City was included in list:Port Elizabeth -- 964420\n",
      "City was included in list:Butaritari -- 2110227\n",
      "City was included in list:Vao -- 2137773\n",
      "City was included in list:Ushuaia -- 3833367\n",
      "City was included in list:Saint George -- 5546220\n",
      "City was included in list:Puerto Carreño -- 3671519\n",
      "City was included in list:Taboga -- 3176234\n",
      "City was included in list:Bredasdorp -- 1015776\n",
      "City was included in list:Lincoln -- 5072006\n",
      "City was included in list:Oneonta -- 5129852\n",
      "City was included in list:Mar del Plata -- 3430863\n",
      "City was included in list:Puerto Ayora -- 3652764\n",
      "City was included in list:The Valley -- 3573374\n",
      "City was included in list:Atuona -- 4020109\n",
      "City was included in list:Morón -- 3430545\n",
      "City was included in list:Bezenchuk -- 576590\n",
      "City was included in list:Orotukan -- 2122414\n",
      "City was included in list:Angoram -- 2100765\n",
      "City was included in list:Chimbote -- 3698304\n",
      "City was included in list:Yellowknife -- 6185377\n",
      "City was included in list:Pacific Grove -- 5380437\n",
      "City was included in list:Rincon -- 4218882\n",
      "City was included in list:Matata -- 2187175\n",
      "City was included in list:Bethel -- 5282297\n",
      "City was included in list:Castro -- 3466704\n",
      "City was included in list:Zhangaözen -- 607610\n",
      "City was NOT included in list: saleaula\n",
      "City was included in list:Mackay -- 2159220\n",
      "City was included in list:Bengkulu -- 1649150\n",
      "City was included in list:Vila Franca do Campo -- 3372472\n",
      "City was included in list:Ancud -- 3899695\n",
      "City was included in list:Sørland -- 3137469\n",
      "City was included in list:Katobu -- 1640972\n",
      "City was included in list:Constitución -- 3893726\n",
      "City was included in list:Znamenskoye -- 1485020\n",
      "City was included in list:Nanortalik -- 3421765\n",
      "City was included in list:Lorengau -- 2092164\n",
      "City was included in list:Kuito -- 3348078\n",
      "City was included in list:Krasnosel'kup -- 1502073\n",
      "City was included in list:Avera -- 4231997\n",
      "City was included in list:Charters Towers -- 2171722\n",
      "City was included in list:La Ronge -- 6050066\n",
      "City was included in list:Laguna -- 5364271\n",
      "City was included in list:La Santisima Trinidad -- 3902377\n",
      "City was included in list:Airai -- 1651810\n",
      "City was included in list:Takoradze -- 2294915\n",
      "City was included in list:Carnarvon -- 2074865\n",
      "City was included in list:Port Lincoln -- 2063036\n",
      "City was included in list:Lubbock -- 5525584\n",
      "City was included in list:Buchanan -- 2278158\n",
      "City was included in list:Alofi -- 4036284\n",
      "City was included in list:Saint Paul Harbor -- 5866583\n",
      "City was included in list:Bara -- 2347758\n",
      "City was included in list:Tautira -- 4033557\n",
      "City was included in list:Tandil -- 3427833\n",
      "City was included in list:Nkayi -- 2259383\n",
      "City was included in list:Wyndham -- 4794814\n",
      "City was included in list:Zhangjiakou -- 2033196\n",
      "City was included in list:Khandyga -- 2022773\n",
      "City was included in list:Lüderitz -- 3355672\n",
      "City was included in list:Rio do Sul -- 3451152\n",
      "City was NOT included in list: hunza\n",
      "City was included in list:Coahuayana Viejo -- 4013679\n",
      "City was included in list:Fairbanks -- 5861897\n",
      "City was included in list:Chifeng -- 2038067\n",
      "City was included in list:Upernavik -- 3418910\n",
      "City was included in list:Ambilobe -- 1082243\n",
      "City was included in list:Lagoa -- 3372964\n",
      "City was included in list:Narsaq -- 3421719\n",
      "City was included in list:Totness -- 3382867\n",
      "City was included in list:Seoul -- 1835848\n",
      "City was included in list:Thompson -- 6165406\n",
      "City was included in list:Preobrazheniye -- 2017658\n",
      "City was included in list:Camopi -- 3382226\n",
      "City was included in list:Nokaneng -- 933211\n",
      "City was NOT included in list: illoqqortoormiut\n",
      "City was included in list:Cabo San Lucas -- 3985710\n",
      "City was included in list:Miandrivazo -- 1059051\n",
      "City was included in list:Fukuechō -- 1863997\n",
      "City was included in list:Mengcheng -- 1800764\n",
      "City was included in list:Deputatsky -- 2028164\n",
      "City was included in list:Mahébourg -- 934322\n",
      "City was included in list:Somerset -- 5104759\n",
      "City was included in list:Atasū -- 1526041\n",
      "City was NOT included in list: sinjah\n",
      "City was NOT included in list: tsihombe\n",
      "City was included in list:Mandalgovi -- 2030065\n",
      "City was included in list:Magugu -- 155310\n",
      "City was included in list:Palmira -- 3673164\n",
      "City was included in list:Bereda -- 3105522\n",
      "City was included in list:Lovington -- 5477090\n",
      "City was included in list:Ostrovnoy -- 556268\n",
      "City was included in list:Invermere -- 5983626\n",
      "City was included in list:Fiumicino -- 3176923\n",
      "City was included in list:Avarua -- 4035715\n",
      "City was included in list:Bubaque -- 2374583\n",
      "City was included in list:San Buenaventura -- 3987500\n",
      "City was included in list:Gusau -- 2339937\n",
      "City was included in list:Wewak -- 2083537\n",
      "City was included in list:Tual -- 1623197\n",
      "City was NOT included in list: samusu\n",
      "City was included in list:Provideniya -- 4031574\n",
      "City was included in list:Nampula -- 1033356\n",
      "City was included in list:Davila -- 1715335\n"
     ]
    },
    {
     "name": "stdout",
     "output_type": "stream",
     "text": [
      "City was included in list:Ust-Kuyga -- 2013921\n",
      "City was included in list:Tigzirt -- 2476660\n",
      "City was included in list:Port Blair -- 1259385\n",
      "City was included in list:Beringovskiy -- 2126710\n",
      "City was included in list:Lodja -- 211647\n",
      "City was included in list:Mezen' -- 527321\n",
      "City was included in list:Tura -- 1254046\n",
      "City was included in list:Walvis Bay -- 3359638\n",
      "City was NOT included in list: amderma\n",
      "City was included in list:Severo-Kuril'sk -- 2121385\n",
      "City was included in list:College -- 5859699\n",
      "City was included in list:Srednekolymsk -- 2121025\n",
      "City was included in list:Los Llanos de Aridane -- 2514651\n",
      "City was included in list:Ajra -- 1279154\n",
      "City was NOT included in list: marcona\n",
      "City was included in list:Strezhevoy -- 1490796\n",
      "City was NOT included in list: vaitupu\n",
      "City was included in list:Rosetta -- 350203\n",
      "City was included in list:Dunedin -- 2191562\n",
      "City was included in list:Port Hedland -- 2063042\n",
      "City was included in list:Arraial do Cabo -- 3471451\n",
      "City was included in list:Acarí -- 3948613\n",
      "City was included in list:Cayenne -- 3382160\n",
      "City was included in list:Clyde River -- 5924351\n",
      "City was included in list:Kargasok -- 1504382\n",
      "City was included in list:Port Hardy -- 6111862\n",
      "City was included in list:Varna -- 726050\n",
      "City was included in list:Biloela -- 2175819\n",
      "City was included in list:Topeka -- 4280539\n",
      "City was included in list:Salmās -- 117656\n",
      "City was included in list:Shimanovsk -- 2016701\n",
      "City was NOT included in list: umzimvubu\n",
      "City was included in list:Kropotkin -- 540761\n",
      "City was included in list:Sabang -- 1214026\n",
      "City was included in list:Port Alfred -- 964432\n",
      "City was NOT included in list: mys shmidta\n",
      "City was included in list:Karratha -- 6620339\n",
      "City was NOT included in list: tawkar\n",
      "City was included in list:North Bend -- 5742974\n",
      "City was included in list:San Patricio -- 4726521\n",
      "City was included in list:Krasnoarmiys'k -- 704422\n",
      "City was included in list:Cape Town -- 3369157\n",
      "City was included in list:Guerrero Negro -- 4021858\n",
      "City was included in list:Pitkyaranta -- 509234\n",
      "City was included in list:Bukama -- 217834\n",
      "City was included in list:Gimli -- 5961417\n",
      "City was included in list:Bontang -- 1648186\n",
      "City was included in list:Iqaluit -- 5983720\n",
      "City was included in list:Kailua -- 5847486\n",
      "City was included in list:Maceió -- 3395981\n",
      "City was NOT included in list: attawapiskat\n",
      "City was included in list:Mayo -- 4362001\n",
      "City was included in list:San Cristobal -- 3628473\n",
      "City was included in list:Guasdualito -- 3804949\n",
      "City was included in list:Kavaratti -- 1267390\n",
      "City was included in list:Talnakh -- 1490256\n",
      "City was included in list:Haifa -- 294801\n",
      "City was included in list:Shitanjing -- 1794971\n",
      "City was included in list:Ketchikan -- 5554428\n",
      "City was included in list:Yong’an -- 1806687\n",
      "City was included in list:Nara -- 1855612\n",
      "City was included in list:Tirumullaivāsal -- 1254367\n",
      "City was included in list:Macapá -- 3396016\n",
      "City was included in list:Wuxue -- 1790894\n",
      "City was included in list:Borogontsy -- 2026160\n",
      "City was included in list:Kamaishi -- 2112444\n",
      "City was included in list:Viedma -- 3832899\n",
      "City was NOT included in list: grand river south east\n",
      "City was NOT included in list: belushya guba\n",
      "City was included in list:Chokurdakh -- 2126123\n",
      "City was included in list:Torbay -- 6167817\n",
      "City was included in list:Taksimo -- 2015701\n",
      "City was included in list:Petropavlovsk-Kamchatskiy -- 2122104\n",
      "City was included in list:Mabaruma -- 3377301\n",
      "City was included in list:East London -- 1006984\n",
      "City was included in list:Lubumbashi -- 922704\n",
      "City was included in list:Tuatapere -- 2180815\n",
      "City was included in list:Mbini -- 2308278\n",
      "City was included in list:Karaton -- 1630058\n",
      "City was included in list:Sukhumi -- 611847\n",
      "City was included in list:Mount Gambier -- 2156643\n",
      "City was included in list:Koundara -- 2418596\n",
      "City was included in list:Farafangana -- 1065158\n",
      "City was included in list:Salym -- 1493162\n",
      "City was included in list:Finnsnes -- 3157549\n",
      "City was included in list:Quelimane -- 1028434\n",
      "City was included in list:Padang -- 1633419\n",
      "City was included in list:Avenal -- 5325327\n",
      "City was included in list:Hanzhong -- 1808857\n",
      "City was included in list:Mincivan -- 147504\n",
      "City was included in list:Amilly -- 3037846\n",
      "City was included in list:Hanmer Springs -- 2190299\n",
      "City was included in list:Tiarei -- 4033356\n",
      "City was included in list:Hilo -- 5855927\n",
      "City was included in list:Norman Wells -- 6089245\n",
      "City was included in list:San Vicente de Cañete -- 3928993\n",
      "City was included in list:Margherita -- 1263532\n",
      "City was included in list:Voznesen'ye -- 471160\n",
      "City was included in list:Florianópolis -- 6323121\n",
      "City was NOT included in list: aflu\n",
      "City was included in list:Ilulissat -- 3423146\n",
      "City was included in list:Chui -- 3443061\n",
      "City was included in list:Korem -- 332746\n",
      "City was included in list:Casablanca -- 2553604\n",
      "City was included in list:Arti -- 580783\n",
      "City was included in list:Osakarovka -- 1520327\n",
      "City was included in list:Phan Thiet -- 1571058\n",
      "City was included in list:Verāval -- 1253237\n",
      "City was included in list:Zaprudnya -- 464708\n",
      "City was included in list:Sola -- 2134814\n",
      "City was included in list:Kuusamo -- 649924\n",
      "City was included in list:Mesyagutovo -- 527370\n",
      "City was included in list:Giddarbāha -- 1271212\n",
      "City was included in list:Camacha -- 2270385\n",
      "City was included in list:Ochamchira -- 612652\n",
      "City was included in list:Wanning -- 1791779\n",
      "City was included in list:Itoman -- 1861280\n",
      "City was included in list:Kwang Binh -- 1582886\n",
      "City was included in list:El Ejido -- 2518494\n",
      "City was included in list:Cobija -- 3919998\n",
      "City was included in list:Abu Samrah -- 172515\n",
      "City was included in list:Goundam -- 2456917\n",
      "City was included in list:Adrar -- 2381972\n",
      "City was included in list:Saint-Gabriel -- 6138260\n",
      "City was included in list:Coalinga -- 5338196\n",
      "City was NOT included in list: bolshiye chapurniki\n",
      "City was included in list:Charter Township of Clinton -- 4989133\n",
      "City was included in list:Den Helder -- 2757220\n",
      "City was NOT included in list: ondorhaan\n",
      "City was included in list:Montepuez -- 1037125\n",
      "City was included in list:Pokhara -- 1282898\n",
      "City was included in list:Sitka -- 5557293\n",
      "City was included in list:Bandarbeyla -- 64814\n",
      "City was included in list:Pisco -- 3932145\n",
      "City was NOT included in list: taga dzong\n",
      "City was included in list:Vardø -- 777019\n",
      "City was included in list:São Gotardo -- 3449053\n",
      "City was NOT included in list: mergui\n",
      "City was included in list:Moses Lake -- 5803990\n",
      "City was included in list:Nelson Bay -- 2155562\n",
      "City was included in list:Skibbereen -- 2961459\n",
      "City was included in list:Faanui -- 4034551\n",
      "City was included in list:Campbell River -- 5914132\n",
      "City was included in list:Luwingu -- 908913\n",
      "City was included in list:Mitsamiouli -- 921786\n",
      "City was included in list:Nieuw Amsterdam -- 3383434\n",
      "City was included in list:Pangnirtung -- 6096551\n",
      "City was included in list:Leningradskiy -- 2123814\n",
      "City was included in list:Codrington -- 2171099\n",
      "City was included in list:Nikolskoye -- 546105\n",
      "City was included in list:Arrondissement de Montbrison -- 2992889\n",
      "City was included in list:Rocha -- 3440777\n",
      "City was included in list:Ayan -- 2027316\n",
      "City was included in list:Kulhudhuffushi -- 1337613\n",
      "City was included in list:Al Bardīyah -- 80509\n",
      "City was included in list:Karymskoye -- 2023094\n",
      "City was included in list:Tasiilaq -- 3424607\n",
      "City was included in list:Naze -- 1855540\n",
      "City was included in list:Caesarea -- 7117228\n",
      "City was included in list:Rosarito -- 3988392\n",
      "City was included in list:Kloulklubed -- 7671223\n",
      "City was included in list:Presidencia Roque Sáenz Peña -- 3840300\n",
      "City was included in list:Bhīmavaram -- 1275947\n",
      "City was included in list:Solnechnyy -- 2016307\n",
      "City was included in list:Alice Springs -- 2077895\n",
      "City was included in list:Puerto Maldonado -- 3931470\n",
      "City was included in list:Kismayo -- 55671\n",
      "City was included in list:Waingapu -- 1622318\n",
      "City was included in list:Mindelo -- 3374462\n",
      "City was included in list:Opuwo -- 3354077\n",
      "City was included in list:Masuguru -- 878054\n",
      "City was included in list:Les Escoumins -- 6944110\n",
      "City was included in list:Marrakesh -- 2542997\n",
      "City was included in list:Shīeli -- 1524801\n",
      "City was included in list:Kaitangata -- 2208248\n",
      "City was included in list:Forsytheganj -- 10722858\n"
     ]
    },
    {
     "name": "stdout",
     "output_type": "stream",
     "text": [
      "City was included in list:Okitipupa -- 2352110\n",
      "City was included in list:Ternate -- 1624041\n",
      "City was NOT included in list: bargal\n",
      "City was included in list:Monetnyy -- 1498456\n",
      "City was included in list:Tamandaré -- 3386931\n",
      "City was included in list:Władysławowo -- 3081752\n",
      "City was included in list:Urusha -- 2014078\n",
      "City was included in list:Dingle -- 1714733\n",
      "City was included in list:Zhigalovo -- 2012532\n",
      "City was included in list:Taoudenni -- 2450173\n",
      "City was included in list:Kiunga -- 2093846\n",
      "City was included in list:Morozovsk -- 525162\n",
      "City was included in list:Alyangula -- 2079582\n",
      "City was included in list:Fort Nelson -- 5955902\n",
      "City was included in list:Havelock -- 4470244\n",
      "City was included in list:Berlevåg -- 780687\n",
      "City was included in list:Saint-Pierre -- 935214\n",
      "City was included in list:Ambatofinandrahana -- 1083239\n",
      "City was included in list:São Filipe -- 3374210\n",
      "City was included in list:Sioux Lookout -- 6148373\n",
      "City was included in list:Whitehorse -- 6180550\n",
      "City was included in list:Zonguldak -- 737021\n",
      "City was included in list:Guánica -- 4565090\n",
      "City was included in list:Moissac -- 2993586\n",
      "City was included in list:Porto Tolle -- 3170070\n",
      "City was included in list:Caravelas -- 3466980\n",
      "City was NOT included in list: babanusah\n",
      "City was included in list:Rupert -- 5606000\n",
      "City was included in list:Praia -- 3374333\n",
      "City was included in list:Husavik -- 2629833\n",
      "City was included in list:Killybegs -- 2963295\n",
      "City was included in list:Jalu -- 86049\n",
      "City was included in list:São Félix do Xingu -- 3388847\n",
      "City was included in list:Jieshi -- 1805857\n",
      "City was included in list:Lander -- 5830007\n",
      "City was included in list:Mahabalipuram -- 1263997\n",
      "City was included in list:Arawa -- 2100633\n",
      "City was included in list:Zhuhai -- 1790437\n",
      "City was included in list:Slave Lake -- 6149374\n",
      "City was included in list:Tiksi -- 2015306\n",
      "City was included in list:Phek -- 1259784\n",
      "City was included in list:Parabel' -- 1495586\n",
      "City was included in list:Merauke -- 2082539\n",
      "City was included in list:Bilma -- 2446796\n",
      "City was included in list:Mt. Pleasant -- 4588165\n",
      "City was included in list:Privolnyy -- 484290\n",
      "City was included in list:Voyvozh -- 471308\n",
      "City was included in list:Bambous Virieux -- 1106677\n",
      "City was NOT included in list: solovetskiy\n",
      "City was included in list:Kedrovyy -- 1538641\n",
      "City was included in list:Norden -- 2862118\n",
      "City was included in list:Golden -- 5423294\n",
      "City was included in list:Bandundu Province -- 2317397\n",
      "City was included in list:Aripuanã -- 3665202\n",
      "City was included in list:Tambopata -- 3927942\n",
      "City was included in list:Pak Phanang -- 1608033\n",
      "City was included in list:Manta -- 3654410\n",
      "City was included in list:Marquette -- 5000950\n",
      "City was included in list:Henties Bay -- 3356832\n",
      "City was included in list:Najrān -- 103630\n",
      "City was included in list:Corinth -- 259289\n",
      "City was included in list:Río Gallegos -- 3838859\n",
      "City was included in list:Mongo -- 2427637\n",
      "City was included in list:Tagusao -- 1684245\n",
      "City was included in list:Saldanha -- 3361934\n",
      "City was included in list:Grand Forks -- 5059430\n",
      "City was included in list:Romans-sur-Isère -- 2983011\n",
      "City was included in list:Barra -- 3470821\n",
      "City was NOT included in list: crab hill\n",
      "City was included in list:Thomaston -- 4226364\n",
      "City was included in list:Paamiut -- 3421193\n",
      "City was included in list:Mahon -- 2514301\n",
      "City was included in list:Adré -- 245669\n",
      "City was NOT included in list: jujuy\n",
      "City was included in list:Vaitape -- 4033077\n",
      "City was included in list:Kiryat Gat -- 293842\n",
      "City was included in list:Bagdarin -- 2027244\n",
      "City was included in list:Alta Floresta -- 6316343\n",
      "City was included in list:Esil -- 1524296\n",
      "City was included in list:Haines Junction -- 5969025\n",
      "City was included in list:Bukachacha -- 2026023\n",
      "City was included in list:Alugan -- 1731248\n",
      "City was NOT included in list: talawdi\n",
      "City was included in list:Todos Santos -- 3981432\n",
      "City was included in list:Waipawa -- 2206874\n",
      "City was included in list:Montrose -- 5431716\n",
      "City was included in list:Tambura -- 366444\n",
      "City was included in list:Katsuura -- 2112309\n",
      "City was included in list:Östersund -- 2685750\n",
      "City was included in list:Ombessa -- 2235194\n",
      "City was NOT included in list: rungata\n",
      "City was included in list:Cervo -- 3125287\n",
      "City was included in list:Hasaki -- 2112802\n",
      "City was included in list:Esquipulas -- 3595783\n",
      "City was included in list:Timbiquí -- 3667070\n",
      "City was included in list:Grinnell -- 4859343\n",
      "City was included in list:Lázaro Cárdenas -- 4026082\n",
      "City was included in list:Lüshunkou -- 1801722\n",
      "City was included in list:São Mateus do Maranhão -- 3388318\n",
      "City was NOT included in list: mocambique\n",
      "City was NOT included in list: halalo\n",
      "City was included in list:Cherdyn' -- 569359\n",
      "City was included in list:Poum -- 2138555\n",
      "City was included in list:San Quintín -- 3984997\n",
      "City was included in list:Tūkrah -- 88834\n",
      "City was included in list:Basco -- 1726449\n",
      "City was included in list:Hirson -- 3013258\n",
      "City was included in list:Grand Gaube -- 934479\n",
      "City was included in list:Bako -- 342856\n",
      "City was included in list:Hong Kong -- 1819729\n",
      "City was included in list:Gushikawa -- 1863495\n",
      "City was included in list:Flinders -- 6255012\n",
      "City was NOT included in list: toliary\n",
      "City was included in list:Dakar -- 2253354\n",
      "City was NOT included in list: suao\n",
      "City was included in list:Saraipali -- 1257259\n",
      "City was included in list:Hvide Sande -- 2619537\n",
      "City was included in list:Xining -- 1788852\n",
      "City was included in list:Fortuna -- 5563839\n",
      "City was NOT included in list: tunxi\n",
      "City was included in list:Birao -- 240210\n",
      "City was included in list:Souillac -- 933995\n",
      "City was included in list:Portobelo -- 3702577\n",
      "City was included in list:Ibrā’ -- 287832\n",
      "City was included in list:Kattivākkam -- 1267433\n",
      "City was included in list:Grants -- 5469841\n",
      "City was included in list:Rawson -- 3839307\n",
      "City was included in list:Saint-François -- 2980080\n",
      "City was included in list:Bakel -- 2252606\n",
      "City was included in list:Touros -- 3386213\n",
      "City was NOT included in list: karamea\n",
      "City was included in list:Kirkwall -- 2645198\n",
      "City was included in list:Vostok -- 2013279\n",
      "City was included in list:Pundaguitan -- 1698289\n",
      "City was included in list:Banda Aceh -- 1215502\n",
      "City was NOT included in list: samalaeulu\n",
      "City was included in list:Arrondissement de Gap -- 3016701\n",
      "City was NOT included in list: tabiauea\n",
      "City was included in list:Zheshart -- 463144\n",
      "City was included in list:Pānsemāl -- 1260447\n",
      "City was included in list:Tabory -- 1490364\n",
      "City was included in list:Khudumelapye -- 933633\n",
      "City was NOT included in list: meyungs\n",
      "City was included in list:São João da Barra -- 3448903\n",
      "City was included in list:São Benedito do Rio Preto -- 3389012\n",
      "City was included in list:Tari -- 2322495\n",
      "City was included in list:Necochea -- 3430443\n",
      "City was included in list:Aykhal -- 2027296\n",
      "City was included in list:Kayasula -- 551638\n",
      "City was included in list:Mbaïki -- 2384770\n",
      "City was NOT included in list: tidore\n",
      "City was included in list:Kushmurun -- 1519924\n",
      "City was included in list:Karoi -- 889191\n",
      "City was included in list:Astoria -- 5711847\n",
      "City was included in list:Marsh Harbour -- 3571913\n",
      "City was included in list:Matara -- 1235846\n",
      "City was included in list:Sorong -- 1626542\n",
      "City was included in list:Ikalamavony -- 1064258\n",
      "City was included in list:Upata -- 3625710\n",
      "City was included in list:Half Moon Bay -- 5354943\n",
      "City was included in list:Goedereede -- 2755485\n",
      "City was included in list:Buala -- 2109528\n",
      "City was included in list:Malinovskiy -- 1539045\n",
      "City was included in list:Rio Grande -- 3451138\n",
      "City was included in list:Baculin -- 1729469\n",
      "City was included in list:Fuerte Olimpo -- 3438102\n",
      "City was NOT included in list: ust-kamchatsk\n",
      "City was included in list:Biltine -- 244878\n",
      "City was included in list:Uyuni -- 3901903\n",
      "City was included in list:Kitgum -- 230893\n",
      "City was included in list:Maniitsoq -- 3421982\n",
      "City was included in list:Miranda -- 3674702\n",
      "City was included in list:Tshikapa -- 204953\n",
      "City was included in list:Bungu -- 160877\n",
      "City was included in list:Meulaboh -- 1214488\n",
      "City was included in list:Carman -- 5917275\n",
      "City was included in list:Harar -- 335035\n",
      "City was included in list:Muli -- 1337617\n",
      "City was included in list:Goderich -- 5962442\n",
      "City was NOT included in list: atka\n"
     ]
    },
    {
     "name": "stdout",
     "output_type": "stream",
     "text": [
      "City was included in list:Koslan -- 544084\n",
      "City was included in list:Cuxhaven -- 2939658\n",
      "City was included in list:Victoria Point -- 2145214\n",
      "City was NOT included in list: nizhneyansk\n",
      "City was included in list:Norsup -- 2135517\n",
      "City was included in list:Mana -- 3381041\n",
      "City was included in list:Sampit -- 1628884\n",
      "City was included in list:Recsk -- 716151\n",
      "City was included in list:Jiuquan -- 1279945\n",
      "City was included in list:Hofn -- 2630299\n",
      "City was included in list:Sinnamary -- 3380290\n",
      "City was NOT included in list: houlung\n",
      "City was included in list:Banjar -- 1650232\n",
      "City was NOT included in list: juifang\n",
      "City was included in list:Saint Anthony -- 5044290\n",
      "City was included in list:Igarka -- 1505991\n",
      "City was included in list:Bosaso -- 64013\n",
      "City was included in list:Vera Cruz -- 3445307\n",
      "City was included in list:Villamontes -- 3901547\n",
      "City was included in list:Xudat -- 584715\n",
      "City was included in list:Laguna de Duero -- 3119631\n",
      "City was included in list:Água Preta -- 3408175\n",
      "City was included in list:Kudahuvadhoo -- 1337607\n",
      "City was included in list:Promyshlennyy -- 1494088\n",
      "City was included in list:Aklavik -- 5882953\n",
      "City was included in list:Manturovo -- 529505\n",
      "City was included in list:Soyo -- 2236967\n",
      "City was included in list:Sol'-Iletsk -- 491019\n",
      "City was included in list:Wattegama -- 1224061\n",
      "City was included in list:Shimoda -- 1852357\n",
      "City was included in list:Cairns -- 2172797\n",
      "City was NOT included in list: zmievka\n",
      "City was included in list:Springfield -- 4409896\n",
      "City was included in list:Patacamaya -- 3908339\n",
      "City was included in list:Chipinge -- 893549\n",
      "City was included in list:Acaraú -- 3408368\n",
      "City was included in list:Empalme -- 4006806\n",
      "City was included in list:Colquiri -- 3919715\n",
      "City was included in list:Morden -- 6078447\n",
      "City was included in list:Belaya Gora -- 2126785\n",
      "City was NOT included in list: tarudant\n",
      "City was included in list:Tieling -- 2034439\n",
      "City was included in list:Shakhtinsk -- 1519327\n",
      "City was included in list:Omboué -- 2396853\n",
      "City was included in list:Inhambane -- 1045114\n",
      "City was included in list:Marzuq -- 72181\n",
      "City was NOT included in list: makung\n",
      "City was NOT included in list: kuche\n",
      "City was included in list:Prado -- 3452483\n",
      "City was included in list:Krasnovishersk -- 542184\n",
      "City was included in list:Umluj -- 100926\n",
      "City was included in list:Coquimbo -- 3893629\n",
      "City was included in list:Imbituba -- 3461370\n",
      "City was included in list:Klaksvík -- 2618795\n",
      "City was included in list:Qandala -- 53157\n",
      "City was included in list:Puerto Escondido -- 3520994\n",
      "City was included in list:Chardara -- 1524889\n",
      "City was included in list:Calamar -- 3687972\n",
      "City was included in list:Urubichá -- 3901969\n",
      "City was included in list:Mossamedes -- 3347019\n",
      "City was included in list:Kyabé -- 2429344\n",
      "City was included in list:Nkhotakota -- 924705\n",
      "City was NOT included in list: tasbuget\n",
      "City was included in list:Ocean City -- 4503351\n",
      "City was included in list:Jacareacanga -- 3397763\n",
      "City was included in list:Harper -- 2276492\n",
      "City was included in list:Ulladulla -- 2145554\n",
      "City was included in list:Asău -- 686090\n",
      "City was included in list:Natal -- 3394023\n",
      "City was NOT included in list: rawannawi\n",
      "City was included in list:Rockport -- 4723422\n",
      "City was included in list:Krasnoarmeysk -- 542464\n",
      "City was included in list:Vestmanna -- 2610343\n",
      "City was included in list:Lida -- 626081\n",
      "City was included in list:Latung -- 1707108\n",
      "City was included in list:Vestmannaeyjar -- 3412093\n",
      "City was NOT included in list: lolua\n",
      "City was included in list:Ambon City -- 1651531\n",
      "City was included in list:Suntar -- 2015913\n",
      "City was included in list:Gazojak -- 1514792\n",
      "City was included in list:Road Town -- 3577430\n",
      "City was included in list:Safranbolu -- 740430\n",
      "City was included in list:Martapura -- 1636022\n",
      "City was included in list:Mahanoro -- 1062553\n",
      "City was included in list:Murgab -- 1218612\n",
      "done pulling data\n"
     ]
    }
   ],
   "source": [
    "# set up lists and variables to hold reponse info\n",
    "lat = []\n",
    "long = []\n",
    "resp_obj2=[]\n",
    "maxtemp = []\n",
    "humi = []\n",
    "cloud = []\n",
    "wind = []\n",
    "country =[]\n",
    "datetime = []\n",
    "datetime2 = []\n",
    "counter = []\n",
    "cityid = []\n",
    "citynotfound = []\n",
    "cityname = []\n",
    "cityid2\n",
    "cityname2 = \"\"\n",
    "citynotfound2 = \"\"\n",
    "counter, counter2 = 0,0\n",
    "\n",
    "\n",
    "# Loop through the list of cities and perform a request for data on each\n",
    "for city in cities:\n",
    "    #print(city)\n",
    "    #query = f\"{url}appid={weather_api_key}&units={units}&q=\"\n",
    "    #response1 = requests.get(query)\n",
    "    #response = response1.json()\n",
    "    try:\n",
    "        query_url = f\"{url}appid={weather_api_key}&units={units}&q=\"\n",
    "        #rint(\"Done\")\n",
    "        response = requests.get(query_url + city).json()\n",
    "        resp_obj.append(response)\n",
    "        long.append(response['coord']['lon'])\n",
    "        lat.append(response['coord']['lat'])\n",
    "        maxtemp.append(response['main']['temp_max'])\n",
    "        humi.append(response['main']['humidity'])\n",
    "        cloud.append(response['clouds']['all'])\n",
    "        wind.append(response['wind']['speed'])\n",
    "        country.append(response['sys']['country'])\n",
    "        datetime.append(response['dt'])\n",
    "        datetime2.append(response['timezone'])\n",
    "        cityid.append(response['id'])\n",
    "        cityid2 = (response['id'])\n",
    "        cityname.append(response['name'])\n",
    "        cityname2= (response['name'])\n",
    "        \n",
    "        print(f\"City was included in list:{cityname2} -- {cityid2}\")   \n",
    "        counter2 = counter2 +1\n",
    "        \n",
    "    except:\n",
    "        citynotfound.append(city)\n",
    "        citynotfound2 = city\n",
    "        counter = counter +1 \n",
    "        print(f\"City was NOT included in list: {citynotfound2}\")\n",
    "        pass\n",
    "    \n",
    "#print(f\"The latitude information received is: {lat}\")\n",
    "#print(f\"The temperature information received is: {temp}\")\n",
    "print(f\"done pulling data\")"
   ]
  },
  {
   "cell_type": "code",
   "execution_count": 189,
   "metadata": {},
   "outputs": [
    {
     "name": "stdout",
     "output_type": "stream",
     "text": [
      "Dataset contains 566 cities that were found and 54 that were not found\n"
     ]
    }
   ],
   "source": [
    "print(f\"Dataset contains {counter2} cities that were found and {counter} that were not found\")"
   ]
  },
  {
   "cell_type": "code",
   "execution_count": 213,
   "metadata": {},
   "outputs": [
    {
     "data": {
      "text/html": [
       "<div>\n",
       "<style scoped>\n",
       "    .dataframe tbody tr th:only-of-type {\n",
       "        vertical-align: middle;\n",
       "    }\n",
       "\n",
       "    .dataframe tbody tr th {\n",
       "        vertical-align: top;\n",
       "    }\n",
       "\n",
       "    .dataframe thead th {\n",
       "        text-align: right;\n",
       "    }\n",
       "</style>\n",
       "<table border=\"1\" class=\"dataframe\">\n",
       "  <thead>\n",
       "    <tr style=\"text-align: right;\">\n",
       "      <th></th>\n",
       "      <th>CityName</th>\n",
       "      <th>Latitude</th>\n",
       "      <th>Temp</th>\n",
       "      <th>Humidity</th>\n",
       "      <th>Cloudiness</th>\n",
       "      <th>WindSpeed</th>\n",
       "      <th>Country</th>\n",
       "    </tr>\n",
       "  </thead>\n",
       "  <tbody>\n",
       "    <tr>\n",
       "      <th>0</th>\n",
       "      <td>Kruisfontein</td>\n",
       "      <td>-34.00</td>\n",
       "      <td>71.01</td>\n",
       "      <td>70</td>\n",
       "      <td>15</td>\n",
       "      <td>3.00</td>\n",
       "      <td>ZA</td>\n",
       "    </tr>\n",
       "    <tr>\n",
       "      <th>1</th>\n",
       "      <td>Lavrentiya</td>\n",
       "      <td>65.58</td>\n",
       "      <td>32.38</td>\n",
       "      <td>94</td>\n",
       "      <td>94</td>\n",
       "      <td>4.65</td>\n",
       "      <td>RU</td>\n",
       "    </tr>\n",
       "    <tr>\n",
       "      <th>2</th>\n",
       "      <td>Marawi</td>\n",
       "      <td>8.00</td>\n",
       "      <td>75.99</td>\n",
       "      <td>92</td>\n",
       "      <td>100</td>\n",
       "      <td>5.01</td>\n",
       "      <td>PH</td>\n",
       "    </tr>\n",
       "    <tr>\n",
       "      <th>3</th>\n",
       "      <td>East Massapequa</td>\n",
       "      <td>40.67</td>\n",
       "      <td>64.40</td>\n",
       "      <td>82</td>\n",
       "      <td>90</td>\n",
       "      <td>9.17</td>\n",
       "      <td>US</td>\n",
       "    </tr>\n",
       "    <tr>\n",
       "      <th>4</th>\n",
       "      <td>New Norfolk</td>\n",
       "      <td>-42.78</td>\n",
       "      <td>42.80</td>\n",
       "      <td>60</td>\n",
       "      <td>40</td>\n",
       "      <td>18.34</td>\n",
       "      <td>AU</td>\n",
       "    </tr>\n",
       "  </tbody>\n",
       "</table>\n",
       "</div>"
      ],
      "text/plain": [
       "          CityName  Latitude   Temp  Humidity  Cloudiness  WindSpeed Country\n",
       "0     Kruisfontein    -34.00  71.01        70          15       3.00      ZA\n",
       "1       Lavrentiya     65.58  32.38        94          94       4.65      RU\n",
       "2           Marawi      8.00  75.99        92         100       5.01      PH\n",
       "3  East Massapequa     40.67  64.40        82          90       9.17      US\n",
       "4      New Norfolk    -42.78  42.80        60          40      18.34      AU"
      ]
     },
     "execution_count": 213,
     "metadata": {},
     "output_type": "execute_result"
    }
   ],
   "source": [
    "df_weather = pd.DataFrame({\n",
    "    \"CityName\": cityname,\n",
    "    \"Latitude\": lat,\n",
    "    \"Temp\": maxtemp,\n",
    "    \"Humidity\": humi,\n",
    "    \"Cloudiness\": cloud,\n",
    "    \"WindSpeed\": wind,\n",
    "    \"Country\": country\n",
    "    \n",
    "})\n",
    "\n",
    "df_weather.head()"
   ]
  },
  {
   "cell_type": "code",
   "execution_count": 192,
   "metadata": {},
   "outputs": [],
   "source": [
    "df_weatherdata = pd.DataFrame.from_dict(resp_obj,orient='columns')"
   ]
  },
  {
   "cell_type": "markdown",
   "metadata": {},
   "source": [
    "### Convert Raw Data to DataFrame\n",
    "* Export the city data into a .csv.\n",
    "* Display the DataFrame"
   ]
  },
  {
   "cell_type": "code",
   "execution_count": 214,
   "metadata": {},
   "outputs": [],
   "source": [
    "#Save all weather data to CSV\n",
    "df_weatherdata.to_csv( r'./output_data/weather_data.csv', index = False)"
   ]
  },
  {
   "cell_type": "code",
   "execution_count": 215,
   "metadata": {},
   "outputs": [],
   "source": [
    "#Export the city data into a .csv.\n",
    "df_weather.to_csv( r'./output_data/WeatherData.csv', index = False)"
   ]
  },
  {
   "cell_type": "code",
   "execution_count": 195,
   "metadata": {},
   "outputs": [
    {
     "data": {
      "text/html": [
       "<div>\n",
       "<style scoped>\n",
       "    .dataframe tbody tr th:only-of-type {\n",
       "        vertical-align: middle;\n",
       "    }\n",
       "\n",
       "    .dataframe tbody tr th {\n",
       "        vertical-align: top;\n",
       "    }\n",
       "\n",
       "    .dataframe thead th {\n",
       "        text-align: right;\n",
       "    }\n",
       "</style>\n",
       "<table border=\"1\" class=\"dataframe\">\n",
       "  <thead>\n",
       "    <tr style=\"text-align: right;\">\n",
       "      <th></th>\n",
       "      <th>CityName</th>\n",
       "      <th>Latitude</th>\n",
       "      <th>Temp</th>\n",
       "      <th>Humidity</th>\n",
       "      <th>Cloudiness</th>\n",
       "      <th>WindSpeed</th>\n",
       "    </tr>\n",
       "  </thead>\n",
       "  <tbody>\n",
       "    <tr>\n",
       "      <th>0</th>\n",
       "      <td>Kruisfontein</td>\n",
       "      <td>-34.00</td>\n",
       "      <td>71.01</td>\n",
       "      <td>70</td>\n",
       "      <td>15</td>\n",
       "      <td>3.00</td>\n",
       "    </tr>\n",
       "    <tr>\n",
       "      <th>1</th>\n",
       "      <td>Lavrentiya</td>\n",
       "      <td>65.58</td>\n",
       "      <td>32.38</td>\n",
       "      <td>94</td>\n",
       "      <td>94</td>\n",
       "      <td>4.65</td>\n",
       "    </tr>\n",
       "    <tr>\n",
       "      <th>2</th>\n",
       "      <td>Marawi</td>\n",
       "      <td>8.00</td>\n",
       "      <td>75.99</td>\n",
       "      <td>92</td>\n",
       "      <td>100</td>\n",
       "      <td>5.01</td>\n",
       "    </tr>\n",
       "    <tr>\n",
       "      <th>3</th>\n",
       "      <td>East Massapequa</td>\n",
       "      <td>40.67</td>\n",
       "      <td>64.40</td>\n",
       "      <td>82</td>\n",
       "      <td>90</td>\n",
       "      <td>9.17</td>\n",
       "    </tr>\n",
       "    <tr>\n",
       "      <th>4</th>\n",
       "      <td>New Norfolk</td>\n",
       "      <td>-42.78</td>\n",
       "      <td>42.80</td>\n",
       "      <td>60</td>\n",
       "      <td>40</td>\n",
       "      <td>18.34</td>\n",
       "    </tr>\n",
       "    <tr>\n",
       "      <th>...</th>\n",
       "      <td>...</td>\n",
       "      <td>...</td>\n",
       "      <td>...</td>\n",
       "      <td>...</td>\n",
       "      <td>...</td>\n",
       "      <td>...</td>\n",
       "    </tr>\n",
       "    <tr>\n",
       "      <th>561</th>\n",
       "      <td>Road Town</td>\n",
       "      <td>18.42</td>\n",
       "      <td>87.80</td>\n",
       "      <td>70</td>\n",
       "      <td>40</td>\n",
       "      <td>9.17</td>\n",
       "    </tr>\n",
       "    <tr>\n",
       "      <th>562</th>\n",
       "      <td>Safranbolu</td>\n",
       "      <td>41.25</td>\n",
       "      <td>67.30</td>\n",
       "      <td>37</td>\n",
       "      <td>0</td>\n",
       "      <td>1.86</td>\n",
       "    </tr>\n",
       "    <tr>\n",
       "      <th>563</th>\n",
       "      <td>Martapura</td>\n",
       "      <td>-3.42</td>\n",
       "      <td>78.80</td>\n",
       "      <td>94</td>\n",
       "      <td>75</td>\n",
       "      <td>6.93</td>\n",
       "    </tr>\n",
       "    <tr>\n",
       "      <th>564</th>\n",
       "      <td>Mahanoro</td>\n",
       "      <td>-19.90</td>\n",
       "      <td>72.16</td>\n",
       "      <td>75</td>\n",
       "      <td>6</td>\n",
       "      <td>3.27</td>\n",
       "    </tr>\n",
       "    <tr>\n",
       "      <th>565</th>\n",
       "      <td>Murgab</td>\n",
       "      <td>37.50</td>\n",
       "      <td>59.00</td>\n",
       "      <td>51</td>\n",
       "      <td>0</td>\n",
       "      <td>4.70</td>\n",
       "    </tr>\n",
       "  </tbody>\n",
       "</table>\n",
       "<p>566 rows × 6 columns</p>\n",
       "</div>"
      ],
      "text/plain": [
       "            CityName  Latitude   Temp  Humidity  Cloudiness  WindSpeed\n",
       "0       Kruisfontein    -34.00  71.01        70          15       3.00\n",
       "1         Lavrentiya     65.58  32.38        94          94       4.65\n",
       "2             Marawi      8.00  75.99        92         100       5.01\n",
       "3    East Massapequa     40.67  64.40        82          90       9.17\n",
       "4        New Norfolk    -42.78  42.80        60          40      18.34\n",
       "..               ...       ...    ...       ...         ...        ...\n",
       "561        Road Town     18.42  87.80        70          40       9.17\n",
       "562       Safranbolu     41.25  67.30        37           0       1.86\n",
       "563        Martapura     -3.42  78.80        94          75       6.93\n",
       "564         Mahanoro    -19.90  72.16        75           6       3.27\n",
       "565           Murgab     37.50  59.00        51           0       4.70\n",
       "\n",
       "[566 rows x 6 columns]"
      ]
     },
     "execution_count": 195,
     "metadata": {},
     "output_type": "execute_result"
    }
   ],
   "source": [
    "#Display the DataFrame\n",
    "df_weather"
   ]
  },
  {
   "cell_type": "markdown",
   "metadata": {},
   "source": [
    "### Plotting the Data\n",
    "* Use proper labeling of the plots using plot titles (including date of analysis) and axes labels.\n",
    "* Save the plotted figures as .pngs."
   ]
  },
  {
   "cell_type": "markdown",
   "metadata": {},
   "source": [
    "#### Latitude vs. Temperature Plot"
   ]
  },
  {
   "cell_type": "code",
   "execution_count": 196,
   "metadata": {
    "scrolled": true
   },
   "outputs": [
    {
     "data": {
      "image/png": "[encoded data removed]",
      "text/plain": [
       "<Figure size 432x288 with 1 Axes>"
      ]
     },
     "metadata": {
      "needs_background": "light"
     },
     "output_type": "display_data"
    }
   ],
   "source": [
    "plot1 = df_weather.plot.scatter(x='Latitude',\n",
    "                      y='Temp',\n",
    "                      c='DarkBlue')\n",
    "\n",
    "plt.savefig('./output_data/Latitude vs. Temperature Plot.png')"
   ]
  },
  {
   "cell_type": "markdown",
   "metadata": {},
   "source": [
    "### Graph describes how temperature decreases as latitude increases in a little bit of a curve graph.\n",
    "### This makes perfect sense since the closer one is to the equator(latitude zero), the warmer the weather is."
   ]
  },
  {
   "cell_type": "markdown",
   "metadata": {},
   "source": [
    "#### Latitude vs. Humidity Plot"
   ]
  },
  {
   "cell_type": "code",
   "execution_count": 197,
   "metadata": {
    "scrolled": true
   },
   "outputs": [
    {
     "data": {
      "image/png": "[encoded data removed]",
      "text/plain": [
       "<Figure size 432x288 with 1 Axes>"
      ]
     },
     "metadata": {
      "needs_background": "light"
     },
     "output_type": "display_data"
    }
   ],
   "source": [
    "plot2 = df_weather.plot.scatter(x='Latitude',\n",
    "                      y='Humidity',\n",
    "                      c='DarkBlue')\n",
    "plt.savefig('./output_data/Latitude vs. Humidity Plot.png')"
   ]
  },
  {
   "cell_type": "markdown",
   "metadata": {},
   "source": [
    "### Graph does not necessarily show any corralation between humity and lalitude. \n",
    "### points are all over the place not showing any pattern."
   ]
  },
  {
   "cell_type": "markdown",
   "metadata": {},
   "source": [
    "#### Latitude vs. Cloudiness Plot"
   ]
  },
  {
   "cell_type": "code",
   "execution_count": 198,
   "metadata": {},
   "outputs": [
    {
     "data": {
      "image/png": "[encoded data removed]",
      "text/plain": [
       "<Figure size 432x288 with 1 Axes>"
      ]
     },
     "metadata": {
      "needs_background": "light"
     },
     "output_type": "display_data"
    }
   ],
   "source": [
    "plot3 = df_weather.plot.scatter(x='Latitude',\n",
    "                      y='Cloudiness',\n",
    "                      c='DarkBlue')\n",
    "plt.savefig('./output_data/Latitude vs. Cloudiness Plot.png')"
   ]
  },
  {
   "cell_type": "markdown",
   "metadata": {},
   "source": [
    "### Graph does not necessarily show any corralation between cloudiness and lalitude.\n",
    "### points are all over the place not showing any pattern"
   ]
  },
  {
   "cell_type": "markdown",
   "metadata": {},
   "source": [
    "#### Latitude vs. Wind Speed Plot"
   ]
  },
  {
   "cell_type": "code",
   "execution_count": 199,
   "metadata": {
    "scrolled": false
   },
   "outputs": [
    {
     "data": {
      "image/png": "[encoded data removed]",
      "text/plain": [
       "<Figure size 432x288 with 1 Axes>"
      ]
     },
     "metadata": {
      "needs_background": "light"
     },
     "output_type": "display_data"
    }
   ],
   "source": [
    "plot4 = df_weather.plot.scatter(x='Latitude',\n",
    "                      y='WindSpeed',\n",
    "                      c='DarkBlue')\n",
    "plt.savefig('./output_data/Latitude vs. Wind Speed Plot.png')"
   ]
  },
  {
   "cell_type": "markdown",
   "metadata": {},
   "source": [
    "### It seems like windseep is consistently low across all latitudes\n",
    "### There are a few outliers towards the end of the of graph or closer to the higher altitudes"
   ]
  },
  {
   "cell_type": "markdown",
   "metadata": {},
   "source": [
    "## Linear Regression"
   ]
  },
  {
   "cell_type": "code",
   "execution_count": null,
   "metadata": {},
   "outputs": [],
   "source": [
    "# OPTIONAL: Create a function to create Linear Regression plots\n"
   ]
  },
  {
   "cell_type": "code",
   "execution_count": 216,
   "metadata": {},
   "outputs": [],
   "source": [
    "# Create Northern and Southern Hemisphere DataFrames\n",
    "\n",
    "df_hemisphere= pd.DataFrame({\n",
    "    \"CityName\": cityname,\n",
    "    \"Latitude\": lat,\n",
    "    \"Long\": long,    \n",
    "})"
   ]
  },
  {
   "cell_type": "code",
   "execution_count": 217,
   "metadata": {},
   "outputs": [],
   "source": [
    "df_hemisphere['NorthOrSouth'] = np.where(df_hemisphere['Latitude']>=0.0, 'North', 'South')"
   ]
  },
  {
   "cell_type": "code",
   "execution_count": 218,
   "metadata": {},
   "outputs": [
    {
     "data": {
      "text/html": [
       "<div>\n",
       "<style scoped>\n",
       "    .dataframe tbody tr th:only-of-type {\n",
       "        vertical-align: middle;\n",
       "    }\n",
       "\n",
       "    .dataframe tbody tr th {\n",
       "        vertical-align: top;\n",
       "    }\n",
       "\n",
       "    .dataframe thead th {\n",
       "        text-align: right;\n",
       "    }\n",
       "</style>\n",
       "<table border=\"1\" class=\"dataframe\">\n",
       "  <thead>\n",
       "    <tr style=\"text-align: right;\">\n",
       "      <th></th>\n",
       "      <th>CityName</th>\n",
       "      <th>Latitude_x</th>\n",
       "      <th>Temp</th>\n",
       "      <th>Humidity</th>\n",
       "      <th>Cloudiness</th>\n",
       "      <th>WindSpeed</th>\n",
       "      <th>Country</th>\n",
       "      <th>Latitude_y</th>\n",
       "      <th>Long</th>\n",
       "      <th>NorthOrSouth</th>\n",
       "    </tr>\n",
       "  </thead>\n",
       "  <tbody>\n",
       "    <tr>\n",
       "      <th>0</th>\n",
       "      <td>Kruisfontein</td>\n",
       "      <td>-34.00</td>\n",
       "      <td>71.01</td>\n",
       "      <td>70</td>\n",
       "      <td>15</td>\n",
       "      <td>3.00</td>\n",
       "      <td>ZA</td>\n",
       "      <td>-34.00</td>\n",
       "      <td>24.73</td>\n",
       "      <td>South</td>\n",
       "    </tr>\n",
       "    <tr>\n",
       "      <th>1</th>\n",
       "      <td>Lavrentiya</td>\n",
       "      <td>65.58</td>\n",
       "      <td>32.38</td>\n",
       "      <td>94</td>\n",
       "      <td>94</td>\n",
       "      <td>4.65</td>\n",
       "      <td>RU</td>\n",
       "      <td>65.58</td>\n",
       "      <td>-171.00</td>\n",
       "      <td>North</td>\n",
       "    </tr>\n",
       "    <tr>\n",
       "      <th>2</th>\n",
       "      <td>Marawi</td>\n",
       "      <td>8.00</td>\n",
       "      <td>75.99</td>\n",
       "      <td>92</td>\n",
       "      <td>100</td>\n",
       "      <td>5.01</td>\n",
       "      <td>PH</td>\n",
       "      <td>8.00</td>\n",
       "      <td>124.29</td>\n",
       "      <td>North</td>\n",
       "    </tr>\n",
       "    <tr>\n",
       "      <th>3</th>\n",
       "      <td>East Massapequa</td>\n",
       "      <td>40.67</td>\n",
       "      <td>64.40</td>\n",
       "      <td>82</td>\n",
       "      <td>90</td>\n",
       "      <td>9.17</td>\n",
       "      <td>US</td>\n",
       "      <td>40.67</td>\n",
       "      <td>-73.44</td>\n",
       "      <td>North</td>\n",
       "    </tr>\n",
       "    <tr>\n",
       "      <th>4</th>\n",
       "      <td>New Norfolk</td>\n",
       "      <td>-42.78</td>\n",
       "      <td>42.80</td>\n",
       "      <td>60</td>\n",
       "      <td>40</td>\n",
       "      <td>18.34</td>\n",
       "      <td>AU</td>\n",
       "      <td>-42.78</td>\n",
       "      <td>147.06</td>\n",
       "      <td>South</td>\n",
       "    </tr>\n",
       "  </tbody>\n",
       "</table>\n",
       "</div>"
      ],
      "text/plain": [
       "          CityName  Latitude_x   Temp  Humidity  Cloudiness  WindSpeed  \\\n",
       "0     Kruisfontein      -34.00  71.01        70          15       3.00   \n",
       "1       Lavrentiya       65.58  32.38        94          94       4.65   \n",
       "2           Marawi        8.00  75.99        92         100       5.01   \n",
       "3  East Massapequa       40.67  64.40        82          90       9.17   \n",
       "4      New Norfolk      -42.78  42.80        60          40      18.34   \n",
       "\n",
       "  Country  Latitude_y    Long NorthOrSouth  \n",
       "0      ZA      -34.00   24.73        South  \n",
       "1      RU       65.58 -171.00        North  \n",
       "2      PH        8.00  124.29        North  \n",
       "3      US       40.67  -73.44        North  \n",
       "4      AU      -42.78  147.06        South  "
      ]
     },
     "execution_count": 218,
     "metadata": {},
     "output_type": "execute_result"
    }
   ],
   "source": [
    "df_allweather = pd.merge(df_weather, df_hemisphere, on = \"CityName\")\n",
    "df_allweather.head()"
   ]
  },
  {
   "cell_type": "code",
   "execution_count": 219,
   "metadata": {},
   "outputs": [],
   "source": [
    "#update CSV file\n",
    "#Export the city data into a .csv.\n",
    "df_allweather.to_csv( r'./output_data/WeatherData.csv', index = False)"
   ]
  },
  {
   "cell_type": "code",
   "execution_count": 204,
   "metadata": {},
   "outputs": [
    {
     "data": {
      "text/html": [
       "<div>\n",
       "<style scoped>\n",
       "    .dataframe tbody tr th:only-of-type {\n",
       "        vertical-align: middle;\n",
       "    }\n",
       "\n",
       "    .dataframe tbody tr th {\n",
       "        vertical-align: top;\n",
       "    }\n",
       "\n",
       "    .dataframe thead th {\n",
       "        text-align: right;\n",
       "    }\n",
       "</style>\n",
       "<table border=\"1\" class=\"dataframe\">\n",
       "  <thead>\n",
       "    <tr style=\"text-align: right;\">\n",
       "      <th></th>\n",
       "      <th>CityName</th>\n",
       "      <th>Latitude_x</th>\n",
       "      <th>Temp</th>\n",
       "      <th>Humidity</th>\n",
       "      <th>Cloudiness</th>\n",
       "      <th>WindSpeed</th>\n",
       "      <th>Latitude_y</th>\n",
       "      <th>Long</th>\n",
       "      <th>NorthOrSouth</th>\n",
       "    </tr>\n",
       "  </thead>\n",
       "  <tbody>\n",
       "    <tr>\n",
       "      <th>0</th>\n",
       "      <td>Kruisfontein</td>\n",
       "      <td>-34.00</td>\n",
       "      <td>71.01</td>\n",
       "      <td>70</td>\n",
       "      <td>15</td>\n",
       "      <td>3.00</td>\n",
       "      <td>-34.00</td>\n",
       "      <td>24.73</td>\n",
       "      <td>South</td>\n",
       "    </tr>\n",
       "    <tr>\n",
       "      <th>4</th>\n",
       "      <td>New Norfolk</td>\n",
       "      <td>-42.78</td>\n",
       "      <td>42.80</td>\n",
       "      <td>60</td>\n",
       "      <td>40</td>\n",
       "      <td>18.34</td>\n",
       "      <td>-42.78</td>\n",
       "      <td>147.06</td>\n",
       "      <td>South</td>\n",
       "    </tr>\n",
       "    <tr>\n",
       "      <th>5</th>\n",
       "      <td>Gamba</td>\n",
       "      <td>-2.65</td>\n",
       "      <td>78.75</td>\n",
       "      <td>82</td>\n",
       "      <td>99</td>\n",
       "      <td>10.20</td>\n",
       "      <td>-2.65</td>\n",
       "      <td>10.00</td>\n",
       "      <td>South</td>\n",
       "    </tr>\n",
       "    <tr>\n",
       "      <th>7</th>\n",
       "      <td>Richards Bay</td>\n",
       "      <td>-28.78</td>\n",
       "      <td>73.99</td>\n",
       "      <td>74</td>\n",
       "      <td>53</td>\n",
       "      <td>11.52</td>\n",
       "      <td>-28.78</td>\n",
       "      <td>32.04</td>\n",
       "      <td>South</td>\n",
       "    </tr>\n",
       "    <tr>\n",
       "      <th>9</th>\n",
       "      <td>Busselton</td>\n",
       "      <td>-33.65</td>\n",
       "      <td>61.00</td>\n",
       "      <td>45</td>\n",
       "      <td>63</td>\n",
       "      <td>12.73</td>\n",
       "      <td>-33.65</td>\n",
       "      <td>115.33</td>\n",
       "      <td>South</td>\n",
       "    </tr>\n",
       "    <tr>\n",
       "      <th>...</th>\n",
       "      <td>...</td>\n",
       "      <td>...</td>\n",
       "      <td>...</td>\n",
       "      <td>...</td>\n",
       "      <td>...</td>\n",
       "      <td>...</td>\n",
       "      <td>...</td>\n",
       "      <td>...</td>\n",
       "      <td>...</td>\n",
       "    </tr>\n",
       "    <tr>\n",
       "      <th>549</th>\n",
       "      <td>Ulladulla</td>\n",
       "      <td>-35.35</td>\n",
       "      <td>54.00</td>\n",
       "      <td>100</td>\n",
       "      <td>90</td>\n",
       "      <td>11.41</td>\n",
       "      <td>-35.35</td>\n",
       "      <td>150.47</td>\n",
       "      <td>South</td>\n",
       "    </tr>\n",
       "    <tr>\n",
       "      <th>551</th>\n",
       "      <td>Natal</td>\n",
       "      <td>-5.79</td>\n",
       "      <td>86.00</td>\n",
       "      <td>62</td>\n",
       "      <td>40</td>\n",
       "      <td>16.11</td>\n",
       "      <td>-5.79</td>\n",
       "      <td>-35.21</td>\n",
       "      <td>South</td>\n",
       "    </tr>\n",
       "    <tr>\n",
       "      <th>558</th>\n",
       "      <td>Ambon City</td>\n",
       "      <td>-3.70</td>\n",
       "      <td>79.00</td>\n",
       "      <td>14</td>\n",
       "      <td>97</td>\n",
       "      <td>4.61</td>\n",
       "      <td>-3.70</td>\n",
       "      <td>128.18</td>\n",
       "      <td>South</td>\n",
       "    </tr>\n",
       "    <tr>\n",
       "      <th>563</th>\n",
       "      <td>Martapura</td>\n",
       "      <td>-3.42</td>\n",
       "      <td>78.80</td>\n",
       "      <td>94</td>\n",
       "      <td>75</td>\n",
       "      <td>6.93</td>\n",
       "      <td>-3.42</td>\n",
       "      <td>114.85</td>\n",
       "      <td>South</td>\n",
       "    </tr>\n",
       "    <tr>\n",
       "      <th>564</th>\n",
       "      <td>Mahanoro</td>\n",
       "      <td>-19.90</td>\n",
       "      <td>72.16</td>\n",
       "      <td>75</td>\n",
       "      <td>6</td>\n",
       "      <td>3.27</td>\n",
       "      <td>-19.90</td>\n",
       "      <td>48.80</td>\n",
       "      <td>South</td>\n",
       "    </tr>\n",
       "  </tbody>\n",
       "</table>\n",
       "<p>175 rows × 9 columns</p>\n",
       "</div>"
      ],
      "text/plain": [
       "         CityName  Latitude_x   Temp  Humidity  Cloudiness  WindSpeed  \\\n",
       "0    Kruisfontein      -34.00  71.01        70          15       3.00   \n",
       "4     New Norfolk      -42.78  42.80        60          40      18.34   \n",
       "5           Gamba       -2.65  78.75        82          99      10.20   \n",
       "7    Richards Bay      -28.78  73.99        74          53      11.52   \n",
       "9       Busselton      -33.65  61.00        45          63      12.73   \n",
       "..            ...         ...    ...       ...         ...        ...   \n",
       "549     Ulladulla      -35.35  54.00       100          90      11.41   \n",
       "551         Natal       -5.79  86.00        62          40      16.11   \n",
       "558    Ambon City       -3.70  79.00        14          97       4.61   \n",
       "563     Martapura       -3.42  78.80        94          75       6.93   \n",
       "564      Mahanoro      -19.90  72.16        75           6       3.27   \n",
       "\n",
       "     Latitude_y    Long NorthOrSouth  \n",
       "0        -34.00   24.73        South  \n",
       "4        -42.78  147.06        South  \n",
       "5         -2.65   10.00        South  \n",
       "7        -28.78   32.04        South  \n",
       "9        -33.65  115.33        South  \n",
       "..          ...     ...          ...  \n",
       "549      -35.35  150.47        South  \n",
       "551       -5.79  -35.21        South  \n",
       "558       -3.70  128.18        South  \n",
       "563       -3.42  114.85        South  \n",
       "564      -19.90   48.80        South  \n",
       "\n",
       "[175 rows x 9 columns]"
      ]
     },
     "execution_count": 204,
     "metadata": {},
     "output_type": "execute_result"
    }
   ],
   "source": [
    "#Create data frame for north and south\n",
    "df_allweatherNorth = df_allweather[df_allweather[\"NorthOrSouth\"] == \"North\"]\n",
    "df_allweatherNorth\n",
    "df_allweatherSouth = df_allweather[df_allweather[\"NorthOrSouth\"] == \"South\"]\n",
    "df_allweatherSouth"
   ]
  },
  {
   "cell_type": "markdown",
   "metadata": {},
   "source": [
    "####  Northern Hemisphere - Max Temp vs. Latitude Linear Regression"
   ]
  },
  {
   "cell_type": "code",
   "execution_count": 205,
   "metadata": {},
   "outputs": [
    {
     "data": {
      "image/png": "[encoded data removed]",
      "text/plain": [
       "<Figure size 432x288 with 1 Axes>"
      ]
     },
     "metadata": {
      "needs_background": "light"
     },
     "output_type": "display_data"
    },
    {
     "data": {
      "text/plain": [
       "<Figure size 432x288 with 0 Axes>"
      ]
     },
     "metadata": {},
     "output_type": "display_data"
    }
   ],
   "source": [
    "# Add the linear regression equation and line to plot\n",
    "x_values = df_allweatherNorth['Latitude_x']\n",
    "y_values = df_allweatherNorth['Temp']\n",
    "(slope, intercept, rvalue, pvalue, stderr) = linregress(x_values, y_values)\n",
    "\n",
    "regress_values = x_values * slope + intercept\n",
    "line_eq = \"y = \" + str(round(slope,2)) + \"x + \" + str(round(intercept,2))\n",
    "plt.scatter(x_values,y_values)\n",
    "plt.plot(x_values,regress_values,\"r-\")\n",
    "plt.annotate(line_eq,(6,10),fontsize=15,color=\"red\")\n",
    "plt.xlabel('Latitude')\n",
    "plt.ylabel('Temp')\n",
    "plt.title(\"Northern Hemisphere - Max Temp vs. Latitude Linear Regression\")\n",
    "plt.show()\n",
    "\n",
    "#Export the file\n",
    "plt.savefig('./output_data/Northern Hemisphere - Max Temp vs. Latitude Linear Regression.png')"
   ]
  },
  {
   "cell_type": "markdown",
   "metadata": {},
   "source": [
    "####  Southern Hemisphere - Max Temp vs. Latitude Linear Regression"
   ]
  },
  {
   "cell_type": "code",
   "execution_count": 206,
   "metadata": {},
   "outputs": [
    {
     "data": {
      "image/png": "[encoded data removed]",
      "text/plain": [
       "<Figure size 432x288 with 1 Axes>"
      ]
     },
     "metadata": {
      "needs_background": "light"
     },
     "output_type": "display_data"
    },
    {
     "data": {
      "text/plain": [
       "<Figure size 432x288 with 0 Axes>"
      ]
     },
     "metadata": {},
     "output_type": "display_data"
    }
   ],
   "source": [
    "# Add the linear regression equation and line to plot\n",
    "x_values = df_allweatherSouth['Latitude_x']\n",
    "y_values = df_allweatherSouth['Temp']\n",
    "(slope, intercept, rvalue, pvalue, stderr) = linregress(x_values, y_values)\n",
    "\n",
    "regress_values = x_values * slope + intercept\n",
    "line_eq = \"y = \" + str(round(slope,2)) + \"x + \" + str(round(intercept,2))\n",
    "plt.scatter(x_values,y_values)\n",
    "plt.plot(x_values,regress_values,\"r-\")\n",
    "plt.annotate(line_eq,(6,10),fontsize=15,color=\"red\")\n",
    "plt.xlabel('Latitude')\n",
    "plt.ylabel('Temp')\n",
    "plt.title('Southern Hemisphere - Max Temp vs. Latitude Linear Regression')\n",
    "plt.show()\n",
    "\n",
    "\n",
    "#Export the file\n",
    "plt.savefig('./output_data/Southern Hemisphere - Max Temp vs. Latitude Linear Regression.png')"
   ]
  },
  {
   "cell_type": "markdown",
   "metadata": {},
   "source": [
    "####  Northern Hemisphere - Humidity (%) vs. Latitude Linear Regression"
   ]
  },
  {
   "cell_type": "code",
   "execution_count": 207,
   "metadata": {},
   "outputs": [
    {
     "data": {
      "image/png": "[encoded data removed]",
      "text/plain": [
       "<Figure size 432x288 with 1 Axes>"
      ]
     },
     "metadata": {
      "needs_background": "light"
     },
     "output_type": "display_data"
    },
    {
     "data": {
      "text/plain": [
       "<Figure size 432x288 with 0 Axes>"
      ]
     },
     "metadata": {},
     "output_type": "display_data"
    }
   ],
   "source": [
    "# Add the linear regression equation and line to plot\n",
    "x_values = df_allweatherNorth['Latitude_x']\n",
    "y_values = df_allweatherNorth['Humidity']\n",
    "(slope, intercept, rvalue, pvalue, stderr) = linregress(x_values, y_values)\n",
    "\n",
    "regress_values = x_values * slope + intercept\n",
    "line_eq = \"y = \" + str(round(slope,2)) + \"x + \" + str(round(intercept,2))\n",
    "plt.scatter(x_values,y_values)\n",
    "plt.plot(x_values,regress_values,\"r-\")\n",
    "plt.annotate(line_eq,(6,10),fontsize=15,color=\"red\")\n",
    "plt.xlabel('Latitude')\n",
    "plt.ylabel('Temp')\n",
    "plt.title(\"Northern Hemisphere - Humidity (%) vs. Latitude Linear Regression\")\n",
    "plt.show()\n",
    "\n",
    "\n",
    "#Export the file\n",
    "plt.savefig('./output_data/Northern Hemisphere - Humidity (%) vs. Latitude Linear Regression.png')"
   ]
  },
  {
   "cell_type": "markdown",
   "metadata": {},
   "source": [
    "####  Southern Hemisphere - Humidity (%) vs. Latitude Linear Regression"
   ]
  },
  {
   "cell_type": "code",
   "execution_count": 208,
   "metadata": {},
   "outputs": [
    {
     "data": {
      "image/png": "[encoded data removed]",
      "text/plain": [
       "<Figure size 432x288 with 1 Axes>"
      ]
     },
     "metadata": {
      "needs_background": "light"
     },
     "output_type": "display_data"
    },
    {
     "data": {
      "text/plain": [
       "<Figure size 432x288 with 0 Axes>"
      ]
     },
     "metadata": {},
     "output_type": "display_data"
    }
   ],
   "source": [
    "# Add the linear regression equation and line to plot\n",
    "x_values = df_allweatherSouth['Latitude_x']\n",
    "y_values = df_allweatherSouth['Humidity']\n",
    "(slope, intercept, rvalue, pvalue, stderr) = linregress(x_values, y_values)\n",
    "\n",
    "regress_values = x_values * slope + intercept\n",
    "line_eq = \"y = \" + str(round(slope,2)) + \"x + \" + str(round(intercept,2))\n",
    "plt.scatter(x_values,y_values)\n",
    "plt.plot(x_values,regress_values,\"r-\")\n",
    "plt.annotate(line_eq,(6,10),fontsize=15,color=\"red\")\n",
    "plt.xlabel('Latitude')\n",
    "plt.ylabel('Temp')\n",
    "plt.title('Southern Hemisphere - Humidity (%) vs. Latitude Linear Regression')\n",
    "plt.show()\n",
    "\n",
    "\n",
    "#Export the file run\n",
    "plt.savefig('./output_data/Southern Hemisphere - Humidity (%)vs. Latitude Linear Regression.png')"
   ]
  },
  {
   "cell_type": "markdown",
   "metadata": {},
   "source": [
    "####  Northern Hemisphere - Cloudiness (%) vs. Latitude Linear Regression"
   ]
  },
  {
   "cell_type": "code",
   "execution_count": 209,
   "metadata": {},
   "outputs": [
    {
     "data": {
      "image/png": "[encoded data removed]",
      "text/plain": [
       "<Figure size 432x288 with 1 Axes>"
      ]
     },
     "metadata": {
      "needs_background": "light"
     },
     "output_type": "display_data"
    },
    {
     "data": {
      "text/plain": [
       "<Figure size 432x288 with 0 Axes>"
      ]
     },
     "metadata": {},
     "output_type": "display_data"
    }
   ],
   "source": [
    "# Add the linear regression equation and line to plot\n",
    "x_values = df_allweatherNorth['Latitude_x']\n",
    "y_values = df_allweatherNorth['Cloudiness']\n",
    "(slope, intercept, rvalue, pvalue, stderr) = linregress(x_values, y_values)\n",
    "\n",
    "regress_values = x_values * slope + intercept\n",
    "line_eq = \"y = \" + str(round(slope,2)) + \"x + \" + str(round(intercept,2))\n",
    "plt.scatter(x_values,y_values)\n",
    "plt.plot(x_values,regress_values,\"r-\")\n",
    "plt.annotate(line_eq,(6,10),fontsize=15,color=\"red\")\n",
    "plt.xlabel('Latitude')\n",
    "plt.ylabel('Temp')\n",
    "plt.title(\"Northern Hemisphere - Cloudiness (%) vs. Latitude Linear Regression\")\n",
    "plt.show()\n",
    "\n",
    "\n",
    "#Export the file run\n",
    "plt.savefig('./output_data/Northern Hemisphere - Cloudiness (%) vs. Latitude Linear Regression.png')"
   ]
  },
  {
   "cell_type": "markdown",
   "metadata": {},
   "source": [
    "####  Southern Hemisphere - Cloudiness (%) vs. Latitude Linear Regression"
   ]
  },
  {
   "cell_type": "code",
   "execution_count": 210,
   "metadata": {},
   "outputs": [
    {
     "data": {
      "image/png": "[encoded data removed]",
      "text/plain": [
       "<Figure size 432x288 with 1 Axes>"
      ]
     },
     "metadata": {
      "needs_background": "light"
     },
     "output_type": "display_data"
    },
    {
     "data": {
      "text/plain": [
       "<Figure size 432x288 with 0 Axes>"
      ]
     },
     "metadata": {},
     "output_type": "display_data"
    }
   ],
   "source": [
    "# Add the linear regression equation and line to plot\n",
    "x_values = df_allweatherSouth['Latitude_x']\n",
    "y_values = df_allweatherSouth['Cloudiness']\n",
    "(slope, intercept, rvalue, pvalue, stderr) = linregress(x_values, y_values)\n",
    "\n",
    "regress_values = x_values * slope + intercept\n",
    "line_eq = \"y = \" + str(round(slope,2)) + \"x + \" + str(round(intercept,2))\n",
    "plt.scatter(x_values,y_values)\n",
    "plt.plot(x_values,regress_values,\"r-\")\n",
    "plt.annotate(line_eq,(6,10),fontsize=15,color=\"red\")\n",
    "plt.xlabel('Latitude')\n",
    "plt.ylabel('Temp')\n",
    "plt.title('Southern Hemisphere - Cloudiness vs. Latitude Linear Regression')\n",
    "plt.show()\n",
    "\n",
    "\n",
    "#Export the file run\n",
    "plt.savefig('./output_data/Southern Hemisphere - Cloudiness vs. Latitude Linear Regression.png')"
   ]
  },
  {
   "cell_type": "markdown",
   "metadata": {},
   "source": [
    "####  Northern Hemisphere - Wind Speed (mph) vs. Latitude Linear Regression"
   ]
  },
  {
   "cell_type": "code",
   "execution_count": 211,
   "metadata": {},
   "outputs": [
    {
     "data": {
      "image/png": "[encoded data removed]",
      "text/plain": [
       "<Figure size 432x288 with 1 Axes>"
      ]
     },
     "metadata": {
      "needs_background": "light"
     },
     "output_type": "display_data"
    },
    {
     "data": {
      "text/plain": [
       "<Figure size 432x288 with 0 Axes>"
      ]
     },
     "metadata": {},
     "output_type": "display_data"
    }
   ],
   "source": [
    "# Add the linear regression equation and line to plot\n",
    "x_values = df_allweatherNorth['Latitude_x']\n",
    "y_values = df_allweatherNorth['WindSpeed']\n",
    "(slope, intercept, rvalue, pvalue, stderr) = linregress(x_values, y_values)\n",
    "\n",
    "regress_values = x_values * slope + intercept\n",
    "line_eq = \"y = \" + str(round(slope,2)) + \"x + \" + str(round(intercept,2))\n",
    "plt.scatter(x_values,y_values)\n",
    "plt.plot(x_values,regress_values,\"r-\")\n",
    "plt.annotate(line_eq,(6,10),fontsize=15,color=\"red\")\n",
    "plt.xlabel('Latitude')\n",
    "plt.ylabel('Temp')\n",
    "plt.title(\"Northern Hemisphere - Wind Speed (mph) vs. Latitude Linear Regression\")\n",
    "plt.show()\n",
    "\n",
    "\n",
    "#Export the file run\n",
    "plt.savefig('./output_data/Northern Hemisphere - Wind Speed (mph) vs. Latitude Linear Regression.png')"
   ]
  },
  {
   "cell_type": "markdown",
   "metadata": {},
   "source": [
    "####  Southern Hemisphere - Wind Speed (mph) vs. Latitude Linear Regression"
   ]
  },
  {
   "cell_type": "code",
   "execution_count": 212,
   "metadata": {},
   "outputs": [
    {
     "data": {
      "image/png": "[encoded data removed]",
      "text/plain": [
       "<Figure size 432x288 with 1 Axes>"
      ]
     },
     "metadata": {
      "needs_background": "light"
     },
     "output_type": "display_data"
    },
    {
     "data": {
      "text/plain": [
       "<Figure size 432x288 with 0 Axes>"
      ]
     },
     "metadata": {},
     "output_type": "display_data"
    }
   ],
   "source": [
    "# Add the linear regression equation and line to plot\n",
    "x_values = df_allweatherSouth['Latitude_x']\n",
    "y_values = df_allweatherSouth['WindSpeed']\n",
    "(slope, intercept, rvalue, pvalue, stderr) = linregress(x_values, y_values)\n",
    "\n",
    "regress_values = x_values * slope + intercept\n",
    "line_eq = \"y = \" + str(round(slope,2)) + \"x + \" + str(round(intercept,2))\n",
    "plt.scatter(x_values,y_values)\n",
    "plt.plot(x_values,regress_values,\"r-\")\n",
    "plt.annotate(line_eq,(6,10),fontsize=15,color=\"red\")\n",
    "plt.xlabel('Latitude')\n",
    "plt.ylabel('Temp')\n",
    "plt.title('Southern Hemisphere - Wind Speed (mph) vs. Latitude Linear Regression')\n",
    "plt.show()\n",
    "\n",
    "\n",
    "#Export the file run\n",
    "plt.savefig('./output_data/Southern Hemisphere - Wind Speed (mph) vs. Latitude Linear Regression.png')"
   ]
  },
  {
   "cell_type": "code",
   "execution_count": null,
   "metadata": {},
   "outputs": [],
   "source": [
    "#CSV of all data\n"
   ]
  }
 ],
 "metadata": {
  "anaconda-cloud": {},
  "kernel_info": {
   "name": "python3"
  },
  "kernelspec": {
   "display_name": "Python 3",
   "language": "python",
   "name": "python3"
  },
  "language_info": {
   "codemirror_mode": {
    "name": "ipython",
    "version": 3
   },
   "file_extension": ".py",
   "mimetype": "text/x-python",
   "name": "python",
   "nbconvert_exporter": "python",
   "pygments_lexer": "ipython3",
   "version": "3.8.5"
  },
  "latex_envs": {
   "LaTeX_envs_menu_present": true,
   "autoclose": false,
   "autocomplete": true,
   "bibliofile": "biblio.bib",
   "cite_by": "apalike",
   "current_citInitial": 1,
   "eqLabelWithNumbers": true,
   "eqNumInitial": 1,
   "hotkeys": {
    "equation": "Ctrl-E",
    "itemize": "Ctrl-I"
   },
   "labels_anchors": false,
   "latex_user_defs": false,
   "report_style_numbering": false,
   "user_envs_cfg": false
  },
  "nteract": {
   "version": "0.12.3"
  },
  "varInspector": {
   "cols": {
    "lenName": 16,
    "lenType": 16,
    "lenVar": 40
   },
   "kernels_config": {
    "python": {
     "delete_cmd_postfix": "",
     "delete_cmd_prefix": "del ",
     "library": "var_list.py",
     "varRefreshCmd": "print(var_dic_list())"
    },
    "r": {
     "delete_cmd_postfix": ") ",
     "delete_cmd_prefix": "rm(",
     "library": "var_list.r",
     "varRefreshCmd": "cat(var_dic_list()) "
    }
   },
   "types_to_exclude": [
    "module",
    "function",
    "builtin_function_or_method",
    "instance",
    "_Feature"
   ],
   "window_display": false
  }
 },
 "nbformat": 4,
 "nbformat_minor": 4
}
